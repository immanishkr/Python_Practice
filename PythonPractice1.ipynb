{
 "cells": [
  {
   "cell_type": "code",
   "execution_count": 10,
   "id": "66361cc9-762b-4fd1-94e6-5fb596c0a059",
   "metadata": {},
   "outputs": [
    {
     "name": "stdin",
     "output_type": "stream",
     "text": [
      " b\n"
     ]
    },
    {
     "name": "stdout",
     "output_type": "stream",
     "text": [
      "no\n"
     ]
    }
   ],
   "source": [
    "#1\n",
    "\n",
    "r=input(\"\")\n",
    "vow=\"aeiouAEIOU\"\n",
    "if r in vow:\n",
    "    print(\"yes\")\n",
    "else:\n",
    "    print(\"no\")"
   ]
  },
  {
   "cell_type": "code",
   "execution_count": null,
   "id": "f727f986-70fc-45cc-a3be-571646003418",
   "metadata": {},
   "outputs": [],
   "source": []
  },
  {
   "cell_type": "code",
   "execution_count": 17,
   "id": "ee11ba04-207a-4f2c-9348-4fb98b9e091e",
   "metadata": {},
   "outputs": [
    {
     "name": "stdin",
     "output_type": "stream",
     "text": [
      "num 20\n"
     ]
    },
    {
     "name": "stdout",
     "output_type": "stream",
     "text": [
      "100\n"
     ]
    }
   ],
   "source": [
    "#2\n",
    "\n",
    "num=int(input(\"num\"))\n",
    "\n",
    "p1=num*2\n",
    "p2=num*3\n",
    "p3=num*4\n",
    "p4=num*5\n",
    "\n",
    "if num <= 5:\n",
    "    print(p1)\n",
    "else:\n",
    "    if 6 <= num <= 10:\n",
    "        print(p2)\n",
    "    else:\n",
    "        if 11 <= num <= 15:\n",
    "            print(p3)\n",
    "        else:\n",
    "            if num > 15:\n",
    "                print(p4)\n",
    "        \n",
    "\n",
    "\n",
    "\n"
   ]
  },
  {
   "cell_type": "code",
   "execution_count": null,
   "id": "541d37cf-f2e8-4ca1-b9eb-ca54efda60a1",
   "metadata": {},
   "outputs": [],
   "source": []
  },
  {
   "cell_type": "code",
   "execution_count": 22,
   "id": "aac9ed90-db7a-4eab-bd85-0d977e9a0ba6",
   "metadata": {},
   "outputs": [
    {
     "name": "stdin",
     "output_type": "stream",
     "text": [
      " 5\n"
     ]
    },
    {
     "name": "stdout",
     "output_type": "stream",
     "text": [
      "WEIRD\n"
     ]
    }
   ],
   "source": [
    "#3\n",
    "\n",
    "a=int(input(\"\"))\n",
    "\n",
    "if a % 2 == 1:\n",
    "    print(\"WEIRD\")\n",
    "else:\n",
    "    if a % 2 == 0 and 2 <= a <= 5:\n",
    "        print(\"NOT WEIRD\")\n",
    "    else:\n",
    "        if a % 2 == 0 and a >= 20:\n",
    "            print (\"NOT WEIRD\")"
   ]
  },
  {
   "cell_type": "code",
   "execution_count": null,
   "id": "2ee9db64-67ff-4878-a2a3-c86a7572613f",
   "metadata": {},
   "outputs": [],
   "source": []
  },
  {
   "cell_type": "code",
   "execution_count": null,
   "id": "ba68767f-8696-42d2-b1d8-48ba72ffa80b",
   "metadata": {},
   "outputs": [],
   "source": []
  },
  {
   "cell_type": "code",
   "execution_count": null,
   "id": "d621f56c-0d35-44ae-881c-d2f018987b02",
   "metadata": {},
   "outputs": [],
   "source": []
  },
  {
   "cell_type": "code",
   "execution_count": null,
   "id": "fce84fbe-445d-4aec-9667-adf8d944082d",
   "metadata": {},
   "outputs": [],
   "source": []
  },
  {
   "cell_type": "code",
   "execution_count": null,
   "id": "b01e5c7d-6ffd-4748-8a64-30d2021bf877",
   "metadata": {},
   "outputs": [],
   "source": []
  },
  {
   "cell_type": "code",
   "execution_count": null,
   "id": "bb0a3875-8908-490c-9eee-2b6f65f599a7",
   "metadata": {},
   "outputs": [],
   "source": []
  },
  {
   "cell_type": "code",
   "execution_count": null,
   "id": "f86828c6-3307-4054-bf47-ee312b0c93b7",
   "metadata": {},
   "outputs": [],
   "source": []
  },
  {
   "cell_type": "code",
   "execution_count": null,
   "id": "332ade85-c9b0-4893-957b-34086df11b5c",
   "metadata": {},
   "outputs": [],
   "source": []
  },
  {
   "cell_type": "code",
   "execution_count": null,
   "id": "4278519e-dd9d-4840-ac5a-22a4998633ef",
   "metadata": {},
   "outputs": [],
   "source": []
  },
  {
   "cell_type": "code",
   "execution_count": null,
   "id": "2ebeeaa2-21b6-4ea0-9ccb-2bde3dd07a05",
   "metadata": {},
   "outputs": [],
   "source": []
  },
  {
   "cell_type": "code",
   "execution_count": null,
   "id": "186d7f18-9b22-4b46-ae76-9efac8f6166b",
   "metadata": {},
   "outputs": [],
   "source": []
  },
  {
   "cell_type": "code",
   "execution_count": null,
   "id": "cafb25f7-e0cf-44a5-a4b2-b17b6952ae09",
   "metadata": {},
   "outputs": [],
   "source": []
  },
  {
   "cell_type": "code",
   "execution_count": null,
   "id": "a5faee65-0b5e-4a72-945a-c4393a77fe96",
   "metadata": {},
   "outputs": [],
   "source": []
  },
  {
   "cell_type": "code",
   "execution_count": null,
   "id": "f933fb7a-6123-482f-9215-5a8985aaeef1",
   "metadata": {},
   "outputs": [],
   "source": []
  },
  {
   "cell_type": "code",
   "execution_count": null,
   "id": "cddc9106-1174-4923-9c94-f67d5bef389e",
   "metadata": {},
   "outputs": [],
   "source": []
  },
  {
   "cell_type": "code",
   "execution_count": null,
   "id": "e47a446c-7bc8-4cde-b557-f3a0bf8aa933",
   "metadata": {},
   "outputs": [],
   "source": []
  },
  {
   "cell_type": "code",
   "execution_count": null,
   "id": "9c536e94-7e72-418a-ae02-4da71d42b0fb",
   "metadata": {},
   "outputs": [],
   "source": []
  },
  {
   "cell_type": "code",
   "execution_count": null,
   "id": "f41167ef-0c75-40a5-8aba-77171c23c314",
   "metadata": {},
   "outputs": [],
   "source": []
  },
  {
   "cell_type": "code",
   "execution_count": null,
   "id": "25157258-98ef-4767-a396-184ca9683ecc",
   "metadata": {},
   "outputs": [],
   "source": []
  }
 ],
 "metadata": {
  "kernelspec": {
   "display_name": "Python 3 (ipykernel)",
   "language": "python",
   "name": "python3"
  },
  "language_info": {
   "codemirror_mode": {
    "name": "ipython",
    "version": 3
   },
   "file_extension": ".py",
   "mimetype": "text/x-python",
   "name": "python",
   "nbconvert_exporter": "python",
   "pygments_lexer": "ipython3",
   "version": "3.12.4"
  }
 },
 "nbformat": 4,
 "nbformat_minor": 5
}
